{
 "cells": [
  {
   "cell_type": "markdown",
   "id": "abb98cb5",
   "metadata": {},
   "source": [
    "# Creating a series"
   ]
  },
  {
   "cell_type": "code",
   "execution_count": 3,
   "id": "d30caef8",
   "metadata": {},
   "outputs": [
    {
     "name": "stdout",
     "output_type": "stream",
     "text": [
      "Series([], dtype: object)\n",
      "0    g\n",
      "1    e\n",
      "2    e\n",
      "3    k\n",
      "4    s\n",
      "dtype: object\n"
     ]
    }
   ],
   "source": [
    "import pandas as pd\n",
    "import numpy as np\n",
    "\n",
    "# creating empty series \n",
    "ser = pd.Series()\n",
    "print(ser)\n",
    "#simple array\n",
    "data = np.array(['g','e','e','k','s'])\n",
    "ser = pd.Series(data)\n",
    "print(ser)"
   ]
  },
  {
   "cell_type": "markdown",
   "id": "b90cadcb",
   "metadata": {},
   "source": [
    "# Creating a series from lists"
   ]
  },
  {
   "cell_type": "code",
   "execution_count": 4,
   "id": "27a71de7",
   "metadata": {},
   "outputs": [
    {
     "name": "stdout",
     "output_type": "stream",
     "text": [
      "0    g,\n",
      "1     e\n",
      "2     e\n",
      "3     k\n",
      "4     s\n",
      "dtype: object\n"
     ]
    }
   ],
   "source": [
    "import pandas as pd \n",
    "# a simple list\n",
    "list = ['g,','e','e','k','s']\n",
    "# create series from a list\n",
    "ser = pd.Series(list)\n",
    "print(ser)"
   ]
  },
  {
   "cell_type": "markdown",
   "id": "821c7065",
   "metadata": {},
   "source": [
    "# Pandas indexes\n"
   ]
  },
  {
   "cell_type": "code",
   "execution_count": 6,
   "id": "a2de7db2",
   "metadata": {},
   "outputs": [
    {
     "name": "stdout",
     "output_type": "stream",
     "text": [
      "        Time.Month    Time.Year  Statistics.# of Delays.Carrier  \\\n",
      "count  4408.000000  4408.000000                     4408.000000   \n",
      "mean      6.578947  2009.243421                      574.632486   \n",
      "std       3.457890     3.667475                      329.616475   \n",
      "min       1.000000  2003.000000                      112.000000   \n",
      "25%       4.000000  2006.000000                      358.000000   \n",
      "50%       7.000000  2009.000000                      476.000000   \n",
      "75%      10.000000  2012.000000                      692.000000   \n",
      "max      12.000000  2016.000000                     3087.000000   \n",
      "\n",
      "       Statistics.# of Delays.Late Aircraft  \\\n",
      "count                           4408.000000   \n",
      "mean                             789.078947   \n",
      "std                              561.798420   \n",
      "min                               86.000000   \n",
      "25%                              425.000000   \n",
      "50%                              618.500000   \n",
      "75%                              959.000000   \n",
      "max                             4483.000000   \n",
      "\n",
      "       Statistics.# of Delays.National Aviation System  \\\n",
      "count                                      4408.000000   \n",
      "mean                                        954.580309   \n",
      "std                                         921.907801   \n",
      "min                                          61.000000   \n",
      "25%                                         399.000000   \n",
      "50%                                         667.500000   \n",
      "75%                                        1166.000000   \n",
      "max                                        9066.000000   \n",
      "\n",
      "       Statistics.# of Delays.Security  Statistics.# of Delays.Weather  \\\n",
      "count                      4408.000000                     4408.000000   \n",
      "mean                          5.575544                       78.216878   \n",
      "std                           6.007046                       75.181726   \n",
      "min                          -1.000000                        1.000000   \n",
      "25%                           2.000000                       33.000000   \n",
      "50%                           4.000000                       58.000000   \n",
      "75%                           7.000000                       98.000000   \n",
      "max                          94.000000                      812.000000   \n",
      "\n",
      "       Statistics.Carriers.Total  Statistics.Flights.Cancelled  \\\n",
      "count                4408.000000                   4408.000000   \n",
      "mean                   12.253403                    213.558076   \n",
      "std                     2.289861                    288.873477   \n",
      "min                     3.000000                      3.000000   \n",
      "25%                    11.000000                     58.000000   \n",
      "50%                    12.000000                    123.000000   \n",
      "75%                    14.000000                    250.000000   \n",
      "max                    18.000000                   3680.000000   \n",
      "\n",
      "       Statistics.Flights.Delayed  Statistics.Flights.Diverted  \\\n",
      "count                 4408.000000                  4408.000000   \n",
      "mean                  2402.000454                    27.880898   \n",
      "std                   1710.947613                    36.356399   \n",
      "min                    283.000000                     0.000000   \n",
      "25%                   1298.750000                     8.000000   \n",
      "50%                   1899.000000                    15.000000   \n",
      "75%                   2950.000000                    32.000000   \n",
      "max                  13699.000000                   442.000000   \n",
      "\n",
      "       Statistics.Flights.On Time  Statistics.Flights.Total  \\\n",
      "count                 4408.000000               4408.000000   \n",
      "mean                  9254.420826              11897.860254   \n",
      "std                   5337.214211               6861.691876   \n",
      "min                   2003.000000               2533.000000   \n",
      "25%                   5708.750000               7400.000000   \n",
      "50%                   7477.000000               9739.500000   \n",
      "75%                  10991.500000              13842.500000   \n",
      "max                  31468.000000              38241.000000   \n",
      "\n",
      "       Statistics.Minutes Delayed.Carrier  \\\n",
      "count                         4408.000000   \n",
      "mean                         35021.369782   \n",
      "std                          24327.721037   \n",
      "min                           6016.000000   \n",
      "25%                          19530.750000   \n",
      "50%                          27782.000000   \n",
      "75%                          41606.000000   \n",
      "max                         220796.000000   \n",
      "\n",
      "       Statistics.Minutes Delayed.Late Aircraft  \\\n",
      "count                               4408.000000   \n",
      "mean                               49410.274955   \n",
      "std                                38750.017050   \n",
      "min                                 5121.000000   \n",
      "25%                                25084.250000   \n",
      "50%                                37483.000000   \n",
      "75%                                59951.250000   \n",
      "max                               345456.000000   \n",
      "\n",
      "       Statistics.Minutes Delayed.National Aviation System  \\\n",
      "count                                        4408.000000     \n",
      "mean                                        45077.107985     \n",
      "std                                         57636.745683     \n",
      "min                                          2183.000000     \n",
      "25%                                         14389.000000     \n",
      "50%                                         25762.000000     \n",
      "75%                                         50362.000000     \n",
      "max                                        602479.000000     \n",
      "\n",
      "       Statistics.Minutes Delayed.Security  Statistics.Minutes Delayed.Total  \\\n",
      "count                          4408.000000                       4408.000000   \n",
      "mean                            211.769737                     135997.535163   \n",
      "std                             257.174789                     113972.276370   \n",
      "min                               0.000000                      14752.000000   \n",
      "25%                              65.000000                      65444.750000   \n",
      "50%                             141.000000                     100711.000000   \n",
      "75%                             274.000000                     164294.750000   \n",
      "max                            4949.000000                     989367.000000   \n",
      "\n",
      "       Statistics.Minutes Delayed.Weather  \n",
      "count                         4408.000000  \n",
      "mean                          6276.982759  \n",
      "std                           6477.417169  \n",
      "min                             46.000000  \n",
      "25%                           2310.750000  \n",
      "50%                           4298.500000  \n",
      "75%                           7846.000000  \n",
      "max                          76770.000000  \n"
     ]
    }
   ],
   "source": [
    "import pandas as pd\n",
    "data = pd.read_csv(\"airlines.csv\")\n",
    "print(data.describe())\n",
    "#data"
   ]
  },
  {
   "cell_type": "markdown",
   "id": "e6080188",
   "metadata": {},
   "source": [
    "# Pandas DataFrames"
   ]
  },
  {
   "cell_type": "code",
   "execution_count": 7,
   "id": "61082839",
   "metadata": {},
   "outputs": [
    {
     "name": "stdout",
     "output_type": "stream",
     "text": [
      "        0\n",
      "0   geeks\n",
      "1     for\n",
      "2   Geeks\n",
      "3      is\n",
      "4  portal\n",
      "5     for\n",
      "6   geeks\n"
     ]
    }
   ],
   "source": [
    "lst = ['geeks','for','Geeks','is','portal','for','geeks']\n",
    "df = pd.DataFrame(lst)\n",
    "print(df)"
   ]
  },
  {
   "cell_type": "code",
   "execution_count": 10,
   "id": "ba65ca9e",
   "metadata": {},
   "outputs": [
    {
     "name": "stdout",
     "output_type": "stream",
     "text": [
      "    Name Age\n",
      "0    tom  20\n",
      "1   nick  30\n",
      "2  krish  25\n",
      "3   jack  31\n"
     ]
    }
   ],
   "source": [
    "# dataFrames from dict narray\n",
    "\n",
    "import pandas as pd\n",
    "data = {'Name': ['tom','nick','krish','jack'], 'Age':['20','30','25','31']}\n",
    "df = pd.DataFrame(data)\n",
    "print(df)"
   ]
  },
  {
   "cell_type": "markdown",
   "id": "b5d0ea4d",
   "metadata": {},
   "source": [
    "# Reindexing"
   ]
  },
  {
   "cell_type": "code",
   "execution_count": 9,
   "id": "751fafb6",
   "metadata": {},
   "outputs": [
    {
     "data": {
      "text/html": [
       "<div>\n",
       "<style scoped>\n",
       "    .dataframe tbody tr th:only-of-type {\n",
       "        vertical-align: middle;\n",
       "    }\n",
       "\n",
       "    .dataframe tbody tr th {\n",
       "        vertical-align: top;\n",
       "    }\n",
       "\n",
       "    .dataframe thead th {\n",
       "        text-align: right;\n",
       "    }\n",
       "</style>\n",
       "<table border=\"1\" class=\"dataframe\">\n",
       "  <thead>\n",
       "    <tr style=\"text-align: right;\">\n",
       "      <th></th>\n",
       "      <th>P</th>\n",
       "      <th>Q</th>\n",
       "      <th>R</th>\n",
       "      <th>S</th>\n",
       "    </tr>\n",
       "  </thead>\n",
       "  <tbody>\n",
       "    <tr>\n",
       "      <th>Parker</th>\n",
       "      <td>4</td>\n",
       "      <td>40</td>\n",
       "      <td>41</td>\n",
       "      <td>42</td>\n",
       "    </tr>\n",
       "    <tr>\n",
       "      <th>William</th>\n",
       "      <td>7</td>\n",
       "      <td>70</td>\n",
       "      <td>72</td>\n",
       "      <td>73</td>\n",
       "    </tr>\n",
       "    <tr>\n",
       "      <th>Smith</th>\n",
       "      <td>1</td>\n",
       "      <td>10</td>\n",
       "      <td>13</td>\n",
       "      <td>14</td>\n",
       "    </tr>\n",
       "    <tr>\n",
       "      <th>Carry</th>\n",
       "      <td>8</td>\n",
       "      <td>80</td>\n",
       "      <td>84</td>\n",
       "      <td>85</td>\n",
       "    </tr>\n",
       "    <tr>\n",
       "      <th>Ajay</th>\n",
       "      <td>9</td>\n",
       "      <td>90</td>\n",
       "      <td>95</td>\n",
       "      <td>96</td>\n",
       "    </tr>\n",
       "  </tbody>\n",
       "</table>\n",
       "</div>"
      ],
      "text/plain": [
       "         P   Q   R   S\n",
       "Parker   4  40  41  42\n",
       "William  7  70  72  73\n",
       "Smith    1  10  13  14\n",
       "Carry    8  80  84  85\n",
       "Ajay     9  90  95  96"
      ]
     },
     "execution_count": 9,
     "metadata": {},
     "output_type": "execute_result"
    }
   ],
   "source": [
    "import pandas as pd\n",
    "info = pd.DataFrame({\"P\":[4,7,1,8,9],\n",
    "                    \"Q\":[40,70,10,80,90],\n",
    "                    \"R\":[41,72,13,84,95],\n",
    "                    \"S\":[42,73,14,85,96]},\n",
    "                     index =[\"Parker\",\"William\",\"Smith\",\"Carry\",\"Ajay\"])\n",
    "\n",
    "info"
   ]
  },
  {
   "cell_type": "code",
   "execution_count": 10,
   "id": "e70d2884",
   "metadata": {},
   "outputs": [
    {
     "data": {
      "text/html": [
       "<div>\n",
       "<style scoped>\n",
       "    .dataframe tbody tr th:only-of-type {\n",
       "        vertical-align: middle;\n",
       "    }\n",
       "\n",
       "    .dataframe tbody tr th {\n",
       "        vertical-align: top;\n",
       "    }\n",
       "\n",
       "    .dataframe thead th {\n",
       "        text-align: right;\n",
       "    }\n",
       "</style>\n",
       "<table border=\"1\" class=\"dataframe\">\n",
       "  <thead>\n",
       "    <tr style=\"text-align: right;\">\n",
       "      <th></th>\n",
       "      <th>P</th>\n",
       "      <th>Q</th>\n",
       "      <th>R</th>\n",
       "      <th>S</th>\n",
       "    </tr>\n",
       "  </thead>\n",
       "  <tbody>\n",
       "    <tr>\n",
       "      <th>A</th>\n",
       "      <td>NaN</td>\n",
       "      <td>NaN</td>\n",
       "      <td>NaN</td>\n",
       "      <td>NaN</td>\n",
       "    </tr>\n",
       "    <tr>\n",
       "      <th>B</th>\n",
       "      <td>NaN</td>\n",
       "      <td>NaN</td>\n",
       "      <td>NaN</td>\n",
       "      <td>NaN</td>\n",
       "    </tr>\n",
       "    <tr>\n",
       "      <th>C</th>\n",
       "      <td>NaN</td>\n",
       "      <td>NaN</td>\n",
       "      <td>NaN</td>\n",
       "      <td>NaN</td>\n",
       "    </tr>\n",
       "    <tr>\n",
       "      <th>D</th>\n",
       "      <td>NaN</td>\n",
       "      <td>NaN</td>\n",
       "      <td>NaN</td>\n",
       "      <td>NaN</td>\n",
       "    </tr>\n",
       "    <tr>\n",
       "      <th>E</th>\n",
       "      <td>NaN</td>\n",
       "      <td>NaN</td>\n",
       "      <td>NaN</td>\n",
       "      <td>NaN</td>\n",
       "    </tr>\n",
       "  </tbody>\n",
       "</table>\n",
       "</div>"
      ],
      "text/plain": [
       "    P   Q   R   S\n",
       "A NaN NaN NaN NaN\n",
       "B NaN NaN NaN NaN\n",
       "C NaN NaN NaN NaN\n",
       "D NaN NaN NaN NaN\n",
       "E NaN NaN NaN NaN"
      ]
     },
     "execution_count": 10,
     "metadata": {},
     "output_type": "execute_result"
    }
   ],
   "source": [
    "#reindexing with new index value\n",
    "info.reindex([\"A\",\"B\",\"C\",\"D\",\"E\"])"
   ]
  },
  {
   "cell_type": "code",
   "execution_count": 11,
   "id": "f8ecae9b",
   "metadata": {},
   "outputs": [
    {
     "data": {
      "text/html": [
       "<div>\n",
       "<style scoped>\n",
       "    .dataframe tbody tr th:only-of-type {\n",
       "        vertical-align: middle;\n",
       "    }\n",
       "\n",
       "    .dataframe tbody tr th {\n",
       "        vertical-align: top;\n",
       "    }\n",
       "\n",
       "    .dataframe thead th {\n",
       "        text-align: right;\n",
       "    }\n",
       "</style>\n",
       "<table border=\"1\" class=\"dataframe\">\n",
       "  <thead>\n",
       "    <tr style=\"text-align: right;\">\n",
       "      <th></th>\n",
       "      <th>P</th>\n",
       "      <th>Q</th>\n",
       "      <th>R</th>\n",
       "      <th>S</th>\n",
       "    </tr>\n",
       "  </thead>\n",
       "  <tbody>\n",
       "    <tr>\n",
       "      <th>A</th>\n",
       "      <td>100</td>\n",
       "      <td>100</td>\n",
       "      <td>100</td>\n",
       "      <td>100</td>\n",
       "    </tr>\n",
       "    <tr>\n",
       "      <th>B</th>\n",
       "      <td>100</td>\n",
       "      <td>100</td>\n",
       "      <td>100</td>\n",
       "      <td>100</td>\n",
       "    </tr>\n",
       "    <tr>\n",
       "      <th>C</th>\n",
       "      <td>100</td>\n",
       "      <td>100</td>\n",
       "      <td>100</td>\n",
       "      <td>100</td>\n",
       "    </tr>\n",
       "    <tr>\n",
       "      <th>D</th>\n",
       "      <td>100</td>\n",
       "      <td>100</td>\n",
       "      <td>100</td>\n",
       "      <td>100</td>\n",
       "    </tr>\n",
       "    <tr>\n",
       "      <th>E</th>\n",
       "      <td>100</td>\n",
       "      <td>100</td>\n",
       "      <td>100</td>\n",
       "      <td>100</td>\n",
       "    </tr>\n",
       "  </tbody>\n",
       "</table>\n",
       "</div>"
      ],
      "text/plain": [
       "     P    Q    R    S\n",
       "A  100  100  100  100\n",
       "B  100  100  100  100\n",
       "C  100  100  100  100\n",
       "D  100  100  100  100\n",
       "E  100  100  100  100"
      ]
     },
     "execution_count": 11,
     "metadata": {},
     "output_type": "execute_result"
    }
   ],
   "source": [
    "# filling the missing value by 100\n",
    "info.reindex([\"A\",\"B\",\"C\",\"D\",\"E\"], fill_value=100)"
   ]
  },
  {
   "cell_type": "markdown",
   "id": "61ffaa38",
   "metadata": {},
   "source": [
    "# Pandas Sort\n",
    "\n",
    "### Two types\n",
    "##### 1.By label     \n",
    "##### 2.By Actual value"
   ]
  },
  {
   "cell_type": "code",
   "execution_count": 15,
   "id": "a5a69109",
   "metadata": {},
   "outputs": [
    {
     "name": "stdout",
     "output_type": "stream",
     "text": [
      "       col2      col1\n",
      "1  1.016648  0.674030\n",
      "4 -0.912728  0.378890\n",
      "5  2.160008 -0.130038\n",
      "6 -0.797661  0.648592\n",
      "3  1.250692 -0.375828\n",
      "8 -1.537929 -0.500841\n",
      "9 -1.723689  0.118134\n",
      "2 -2.315266  0.687882\n",
      "4 -0.550265  0.292000\n",
      "3  0.520841  0.448812\n",
      "       col2      col1\n",
      "1  1.016648  0.674030\n",
      "2 -2.315266  0.687882\n",
      "3  1.250692 -0.375828\n",
      "3  0.520841  0.448812\n",
      "4 -0.912728  0.378890\n",
      "4 -0.550265  0.292000\n",
      "5  2.160008 -0.130038\n",
      "6 -0.797661  0.648592\n",
      "8 -1.537929 -0.500841\n",
      "9 -1.723689  0.118134\n"
     ]
    }
   ],
   "source": [
    "import pandas as pd \n",
    "import numpy as np\n",
    "unsorted_df = pd.DataFrame(np.random.randn (10,2), index= [1,4,5,6,3,8,9,2,4,3], columns =[\"col2\", \"col1\"])\n",
    "print(unsorted_df)\n",
    "sorted_df = unsorted_df.sort_index()\n",
    "print(sorted_df)"
   ]
  },
  {
   "cell_type": "markdown",
   "id": "6afe403f",
   "metadata": {},
   "source": [
    "# Order in sorting"
   ]
  },
  {
   "cell_type": "code",
   "execution_count": 16,
   "id": "d60fd9e2",
   "metadata": {},
   "outputs": [
    {
     "name": "stdout",
     "output_type": "stream",
     "text": [
      "       col2      col1\n",
      "1  0.594648 -1.036745\n",
      "4 -0.195132  1.291323\n",
      "5 -2.108874 -0.354591\n",
      "6 -0.850459 -1.210174\n",
      "3 -0.501689 -0.802030\n",
      "8 -0.633128 -0.226414\n",
      "9 -0.680224 -2.189084\n",
      "2  0.596502  0.035327\n",
      "4 -1.341594 -1.112571\n",
      "3  0.046663 -1.600433\n",
      "       col2      col1\n",
      "9 -0.680224 -2.189084\n",
      "8 -0.633128 -0.226414\n",
      "6 -0.850459 -1.210174\n",
      "5 -2.108874 -0.354591\n",
      "4 -0.195132  1.291323\n",
      "4 -1.341594 -1.112571\n",
      "3 -0.501689 -0.802030\n",
      "3  0.046663 -1.600433\n",
      "2  0.596502  0.035327\n",
      "1  0.594648 -1.036745\n"
     ]
    }
   ],
   "source": [
    "import pandas as pd \n",
    "import numpy as np\n",
    "unsorted_df = pd.DataFrame(np.random.randn (10,2), index= [1,4,5,6,3,8,9,2,4,3], columns =['col2', 'col1'])\n",
    "print (unsorted_df)\n",
    "sorted_df = unsorted_df.sort_index(ascending=False)\n",
    "print(sorted_df)"
   ]
  },
  {
   "cell_type": "markdown",
   "id": "219d9ca6",
   "metadata": {},
   "source": [
    "# Sort the Columns\n"
   ]
  },
  {
   "cell_type": "code",
   "execution_count": 17,
   "id": "f0db19f9",
   "metadata": {},
   "outputs": [
    {
     "name": "stdout",
     "output_type": "stream",
     "text": [
      "       col2      col1\n",
      "1  0.182497  0.727430\n",
      "4  0.915109 -1.550145\n",
      "5 -0.049425  0.395333\n",
      "6  0.108975 -0.555368\n",
      "3 -0.966425  1.070826\n",
      "8 -1.224493 -0.441292\n",
      "9  0.668582 -1.810378\n",
      "2 -1.379505  1.454151\n",
      "4 -0.500698  0.138363\n",
      "3  1.075872 -0.660447\n",
      "       col1      col2\n",
      "1  0.727430  0.182497\n",
      "4 -1.550145  0.915109\n",
      "5  0.395333 -0.049425\n",
      "6 -0.555368  0.108975\n",
      "3  1.070826 -0.966425\n",
      "8 -0.441292 -1.224493\n",
      "9 -1.810378  0.668582\n",
      "2  1.454151 -1.379505\n",
      "4  0.138363 -0.500698\n",
      "3 -0.660447  1.075872\n"
     ]
    }
   ],
   "source": [
    "import pandas as pd \n",
    "import numpy as np\n",
    "unsorted_df = pd.DataFrame(np.random.randn (10,2), index= [1,4,5,6,3,8,9,2,4,3], columns =[\"col2\", \"col1\"])\n",
    "print(unsorted_df)\n",
    "sorted_df = unsorted_df.sort_index(axis=1)\n",
    "print(sorted_df)"
   ]
  },
  {
   "cell_type": "markdown",
   "id": "39a67f73",
   "metadata": {},
   "source": [
    "# By Value"
   ]
  },
  {
   "cell_type": "code",
   "execution_count": 19,
   "id": "ea8d21fe",
   "metadata": {},
   "outputs": [
    {
     "name": "stdout",
     "output_type": "stream",
     "text": [
      "   col1  col2\n",
      "1     1     3\n",
      "2     1     2\n",
      "3     1     4\n",
      "0     2     1\n"
     ]
    }
   ],
   "source": [
    "import pandas as pd\n",
    "import numpy as np\n",
    "unsorted_df = pd.DataFrame({'col1': [2,1,1,1], 'col2': [1,3,2,4]}) \n",
    "sorted_df = unsorted_df.sort_values (by='col1')\n",
    "print (sorted_df)"
   ]
  },
  {
   "cell_type": "markdown",
   "id": "7960c0af",
   "metadata": {},
   "source": [
    "# Working with Text Data"
   ]
  },
  {
   "cell_type": "code",
   "execution_count": 22,
   "id": "8bdb4cb8",
   "metadata": {},
   "outputs": [
    {
     "name": "stdout",
     "output_type": "stream",
     "text": [
      "0             tom\n",
      "1    william rick\n",
      "2            john\n",
      "3         alber@t\n",
      "4             NaN\n",
      "5            1234\n",
      "6      stevesmith\n",
      "dtype: object\n"
     ]
    }
   ],
   "source": [
    "# lower()\n",
    "import pandas as pd\n",
    "import numpy as np\n",
    "s = pd.Series(['Tom', 'William Rick', 'John', 'Alber@t', np.nan, '1234', 'SteveSmith'])\n",
    "print (s. str.lower())"
   ]
  },
  {
   "cell_type": "code",
   "execution_count": 21,
   "id": "a4a5ac9d",
   "metadata": {},
   "outputs": [
    {
     "name": "stdout",
     "output_type": "stream",
     "text": [
      "0             TOM\n",
      "1    WILLIAM RICK\n",
      "2            JOHN\n",
      "3         ALBER@T\n",
      "4             NaN\n",
      "5            1234\n",
      "6      STEVESMITH\n",
      "dtype: object\n"
     ]
    }
   ],
   "source": [
    "# upper()\n",
    "import pandas as pd\n",
    "import numpy as np\n",
    "s = pd.Series(['Tom', 'William Rick', 'John', 'Alber@t', np.nan, '1234', 'SteveSmith'])\n",
    "print (s. str.upper())"
   ]
  },
  {
   "cell_type": "markdown",
   "id": "32bf6eaa",
   "metadata": {},
   "source": [
    "# Statistical Function"
   ]
  },
  {
   "cell_type": "code",
   "execution_count": 23,
   "id": "f0cf9311",
   "metadata": {},
   "outputs": [
    {
     "name": "stdout",
     "output_type": "stream",
     "text": [
      "DataFrame = \n",
      "    Maths  Science  English\n",
      "0     90       92       95\n",
      "1     85       87       94\n",
      "2     98       59       84\n",
      "3     80       64       75\n",
      "4     55       87       67\n",
      "5     78       96       65\n",
      "\n",
      "Sum = \n",
      " Maths      486\n",
      "Science    485\n",
      "English    480\n",
      "dtype: int64\n"
     ]
    }
   ],
   "source": [
    "# pandas Sum()\n",
    "\n",
    "import pandas as pd\n",
    "# Dataset\n",
    "data = {\n",
    "'Maths' :[90, 85, 98, 80, 55, 78],\n",
    "'Science': [92, 87, 59, 64, 87, 96], 'English': [95, 94, 84, 75, 67, 65]\n",
    "}\n",
    "# DataFrame\n",
    "df = pd.DataFrame(data)\n",
    "# Display the DataFrame \n",
    "print(\"DataFrame = \\n\",df)\n",
    "# Display the Sum of Marks in each column \n",
    "print(\"\\nSum = \\n\",df.sum())"
   ]
  },
  {
   "cell_type": "code",
   "execution_count": 24,
   "id": "90b4ec1b",
   "metadata": {},
   "outputs": [
    {
     "name": "stdout",
     "output_type": "stream",
     "text": [
      "DataFrame = \n",
      "    Maths  Science  English\n",
      "0   90.0     92.0     95.0\n",
      "1   85.0     87.0      NaN\n",
      "2   98.0     59.0     84.0\n",
      "3    NaN      NaN     75.0\n",
      "4   55.0      NaN     67.0\n",
      "5   78.0     96.0      NaN\n",
      "\n",
      "Count of non-empty values = \n",
      " Maths      5\n",
      "Science    4\n",
      "English    4\n",
      "dtype: int64\n"
     ]
    }
   ],
   "source": [
    "# Pandas count()\n",
    "\n",
    "import pandas as pd\n",
    "# Dataset\n",
    "data = {\n",
    "'Maths': [90, 85, 98, None, 55, 78],\n",
    "'Science': [92, 87, 59, None, None, 96],\n",
    "'English': [95, None, 84, 75, 67, None]\n",
    "}\n",
    "# DataFrame\n",
    "df = pd.DataFrame(data)\n",
    "# Display the DataFrame \n",
    "print(\"DataFrame = \\n\", df)\n",
    "# Display the Count of non-empty values in each column \n",
    "print(\"\\nCount of non-empty values = \\n\", df.count())"
   ]
  },
  {
   "cell_type": "code",
   "execution_count": 25,
   "id": "5f2f7abe",
   "metadata": {},
   "outputs": [
    {
     "name": "stdout",
     "output_type": "stream",
     "text": [
      "DataFrame = \n",
      "    Maths  Science  English\n",
      "0     90       92       95\n",
      "1     85       87       94\n",
      "2     98       59       84\n",
      "3     80       64       75\n",
      "4     55       87       67\n",
      "5     78       96       65\n",
      "\n",
      "Maximum Marks = \n",
      " Maths      98\n",
      "Science    96\n",
      "English    95\n",
      "dtype: int64\n"
     ]
    }
   ],
   "source": [
    "#pandas max()\n",
    "\n",
    "\n",
    "import pandas as pd\n",
    "# Dataset\n",
    "data = { 'Maths': [90, 85, 98, 80, 55, 78],\n",
    "'Science': [92, 87, 59, 64, 87, 96],\n",
    "'English': [95, 94, 84, 75, 67, 65]\n",
    "}\n",
    "#DataFrame\n",
    "df = pd.DataFrame(data)\n",
    "# Display the DataFrame \n",
    "print(\"DataFrame = \\n\",df)\n",
    "# Display the Maximum of Marks in each column \n",
    "print(\"\\nMaximum Marks = \\n\", df.max())"
   ]
  },
  {
   "cell_type": "code",
   "execution_count": 26,
   "id": "bac03d82",
   "metadata": {},
   "outputs": [
    {
     "name": "stdout",
     "output_type": "stream",
     "text": [
      "DataFrame = \n",
      "    Maths  Science  English\n",
      "0     90       92       95\n",
      "1     85       87       94\n",
      "2     98       59       84\n",
      "3     80       64       75\n",
      "4     55       87       67\n",
      "5     78       96       65\n",
      "\n",
      "Minimum Marks = \n",
      " Maths      55\n",
      "Science    59\n",
      "English    65\n",
      "dtype: int64\n"
     ]
    }
   ],
   "source": [
    "# pandas min()\n",
    "\n",
    "import pandas as pd\n",
    "# Dataset\n",
    "data = {\n",
    "'Maths' : [90, 85, 98, 80, 55, 78], 'Science': [92, 87, 59, 64, 87, 96], 'English': [95, 94, 84, 75, 67, 65]\n",
    "}\n",
    "# DataFrame\n",
    "df = pd.DataFrame(data)\n",
    "# Display the DataFrame\n",
    "print(\"DataFrame = \\n\", df)\n",
    "# Display the Minimum of Marks in each column \n",
    "print(\"\\nMinimum Marks = \\n\", df.min())"
   ]
  },
  {
   "cell_type": "code",
   "execution_count": 27,
   "id": "02c65ee1",
   "metadata": {},
   "outputs": [
    {
     "name": "stdout",
     "output_type": "stream",
     "text": [
      "DataFrame = \n",
      "    Maths  Science  English\n",
      "0     90       92       95\n",
      "1     85       87       94\n",
      "2     98       59       84\n",
      "3     80       64       75\n",
      "4     55       87       67\n",
      "5     78       96       65\n",
      "\n",
      "Median = \n",
      " Maths      82.5\n",
      "Science    87.0\n",
      "English    79.5\n",
      "dtype: float64\n"
     ]
    }
   ],
   "source": [
    "# pandas median()\n",
    "\n",
    "import pandas as pd\n",
    "# Dataset\n",
    "data = {\n",
    "'Maths': [90, 85, 98, 80, 55, 78],\n",
    "'Science': [92, 87, 59, 64, 87, 96], 'English': [95, 94, 84, 75, 67, 65]\n",
    "}\n",
    "# DataFrame\n",
    "df = pd.DataFrame(data)\n",
    "# Display the DataFrame\n",
    "print(\"DataFrame = \\n\", df)\n",
    "# Display the Median of Marks in each column \n",
    "print(\"\\nMedian = \\n\",df.median())"
   ]
  },
  {
   "cell_type": "markdown",
   "id": "92ed507a",
   "metadata": {},
   "source": [
    "# Indexing and selecting data"
   ]
  },
  {
   "cell_type": "markdown",
   "id": "152cacfe",
   "metadata": {},
   "source": [
    "### indexing a data frame using indexing operator []"
   ]
  },
  {
   "cell_type": "code",
   "execution_count": 28,
   "id": "5d46418d",
   "metadata": {},
   "outputs": [
    {
     "name": "stdout",
     "output_type": "stream",
     "text": [
      "Name\n",
      "Avery Bradley    25.0\n",
      "Jae Crowder      25.0\n",
      "John Holland     27.0\n",
      "R.J. Hunter      22.0\n",
      "Jonas Jerebko    29.0\n",
      "                 ... \n",
      "Shelvin Mack     26.0\n",
      "Raul Neto        24.0\n",
      "Tibor Pleiss     26.0\n",
      "Jeff Withey      26.0\n",
      "NaN               NaN\n",
      "Name: Age, Length: 458, dtype: float64\n"
     ]
    }
   ],
   "source": [
    "# importing pandas package\n",
    "import pandas as pd\n",
    "\n",
    "# making data frame from csv file\n",
    "data = pd.read_csv(\"nba.csv\", index_col =\"Name\")\n",
    "\n",
    "# retrieving columns by indexing operator\n",
    "first = data[\"Age\"]\n",
    "\n",
    "print(first)\n"
   ]
  },
  {
   "cell_type": "markdown",
   "id": "ce549aa4",
   "metadata": {},
   "source": [
    "# Indexing a DataFrame using .loc[]"
   ]
  },
  {
   "cell_type": "code",
   "execution_count": 29,
   "id": "2b43ca52",
   "metadata": {},
   "outputs": [
    {
     "name": "stdout",
     "output_type": "stream",
     "text": [
      "Team        Boston Celtics\n",
      "Number                 0.0\n",
      "Position                PG\n",
      "Age                   25.0\n",
      "Height                 6-2\n",
      "Weight               180.0\n",
      "College              Texas\n",
      "Salary           7730337.0\n",
      "Name: Avery Bradley, dtype: object \n",
      "\n",
      "\n",
      " Team        Boston Celtics\n",
      "Number                28.0\n",
      "Position                SG\n",
      "Age                   22.0\n",
      "Height                 6-5\n",
      "Weight               185.0\n",
      "College      Georgia State\n",
      "Salary           1148640.0\n",
      "Name: R.J. Hunter, dtype: object\n"
     ]
    }
   ],
   "source": [
    "# importing pandas package\n",
    "import pandas as pd\n",
    "\n",
    "# making data frame from csv file\n",
    "data = pd.read_csv(\"nba.csv\", index_col =\"Name\")\n",
    "\n",
    "# retrieving row by loc method\n",
    "first = data.loc[\"Avery Bradley\"]\n",
    "second = data.loc[\"R.J. Hunter\"]\n",
    "\n",
    "print(first, \"\\n\\n\\n\", second)\n"
   ]
  },
  {
   "cell_type": "code",
   "execution_count": null,
   "id": "e38d71ad",
   "metadata": {},
   "outputs": [],
   "source": []
  }
 ],
 "metadata": {
  "kernelspec": {
   "display_name": "Python 3 (ipykernel)",
   "language": "python",
   "name": "python3"
  },
  "language_info": {
   "codemirror_mode": {
    "name": "ipython",
    "version": 3
   },
   "file_extension": ".py",
   "mimetype": "text/x-python",
   "name": "python",
   "nbconvert_exporter": "python",
   "pygments_lexer": "ipython3",
   "version": "3.11.5"
  }
 },
 "nbformat": 4,
 "nbformat_minor": 5
}
